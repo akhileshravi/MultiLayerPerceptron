{
 "cells": [
  {
   "cell_type": "code",
   "execution_count": 0,
   "metadata": {
    "colab": {},
    "colab_type": "code",
    "id": "SgR6I_ETK-tL"
   },
   "outputs": [],
   "source": [
    "# Importing modules\n",
    "import pandas as pd\n",
    "import numpy as np\n",
    "import sklearn\n",
    "from sklearn.model_selection import train_test_split\n",
    "import matplotlib.pyplot as plt\n",
    "from sklearn import datasets\n",
    "import math"
   ]
  },
  {
   "cell_type": "markdown",
   "metadata": {},
   "source": [
    "# Logistic Regression"
   ]
  },
  {
   "cell_type": "code",
   "execution_count": 0,
   "metadata": {
    "colab": {},
    "colab_type": "code",
    "id": "CfOvJBEzPQcv"
   },
   "outputs": [],
   "source": [
    "# Load Iris Dataset - for Classification\n",
    "iris = datasets.load_iris()"
   ]
  },
  {
   "cell_type": "code",
   "execution_count": 0,
   "metadata": {
    "colab": {},
    "colab_type": "code",
    "id": "bJ-67I6MPbYa"
   },
   "outputs": [],
   "source": [
    "print(iris.feature_names)\n",
    "print(iris.target_names)"
   ]
  },
  {
   "cell_type": "code",
   "execution_count": 0,
   "metadata": {
    "colab": {},
    "colab_type": "code",
    "id": "3Mz76Y5bQGlt"
   },
   "outputs": [],
   "source": [
    "X_orig = iris.data[:, [0,3]].copy()\n",
    "tmp = iris.target.copy()\n",
    "tmp[tmp == 2] = 1\n",
    "#tmp[tmp == 1] = 1\n",
    "#tmp[tmp == 0] = 1\n",
    "y_orig = tmp.copy()\n",
    "y = np.reshape(y_orig,(len(y),1))\n",
    "# 0 : setosa\n",
    "# 1 : not setosa\n",
    "print(np.unique(y))\n",
    "print(len(X_orig))"
   ]
  },
  {
   "cell_type": "code",
   "execution_count": 0,
   "metadata": {
    "colab": {},
    "colab_type": "code",
    "id": "50USpmO-QMeC"
   },
   "outputs": [],
   "source": [
    "setosa = X_orig[y_orig==0]\n",
    "not_setosa = X_orig[y_orig==1]\n",
    "plt.scatter(setosa[:,0],setosa[:,1],c='b')\n",
    "plt.scatter(not_setosa[:,0],not_setosa[:,1],c='g')\n",
    "plt.xlabel('sepal length (cm)')\n",
    "plt.ylabel('petal width (cm)')\n",
    "a = []\n",
    "plt.show()"
   ]
  },
  {
   "cell_type": "code",
   "execution_count": 0,
   "metadata": {
    "colab": {},
    "colab_type": "code",
    "id": "7YclYE_o4B4N"
   },
   "outputs": [],
   "source": [
    "X = np.hstack((np.ones((len(X_orig),1)), X_orig))\n",
    "print(X.shape)\n",
    "X[:5,:]"
   ]
  },
  {
   "cell_type": "code",
   "execution_count": 0,
   "metadata": {
    "colab": {},
    "colab_type": "code",
    "id": "eC2knRCpQY6T"
   },
   "outputs": [],
   "source": [
    "theta = np.ones((len(X[0]), 1) )\n",
    "print(theta.shape)\n",
    "theta"
   ]
  },
  {
   "cell_type": "code",
   "execution_count": 0,
   "metadata": {
    "colab": {},
    "colab_type": "code",
    "id": "jAhFGv9NRzRi"
   },
   "outputs": [],
   "source": [
    "def sigmoid(z):\n",
    "    ''' Sigmoid function: f(z) = 1/(1 + e^(-z))'''\n",
    "    return 1 / (1+np.exp(-z))"
   ]
  },
  {
   "cell_type": "code",
   "execution_count": 0,
   "metadata": {
    "colab": {},
    "colab_type": "code",
    "id": "ttovgpBOSKO0"
   },
   "outputs": [],
   "source": [
    "def single_cost(xi, theta, yi):\n",
    "    ''' Returns the cost for one sample '''\n",
    "    return - ( yi * math.log10( sigmoid(xi @ theta) ) + (1 - yi) * math.log10( 1 - sigmoid(xi @ theta) ) )\n"
   ]
  },
  {
   "cell_type": "code",
   "execution_count": 0,
   "metadata": {
    "colab": {},
    "colab_type": "code",
    "id": "eZw6kX7X5B20"
   },
   "outputs": [],
   "source": [
    "\n",
    "a = 1\n",
    "#a = single_cost(X,theta,y)\n",
    "k = list(map(sigmoid, X@theta))\n",
    "np.reshape(k, (len(k), 1))\n",
    "np.array(k)-y\n",
    "l = np.array([1,2,3])\n",
    "l*l\n",
    "X[:,1].shape\n",
    "k = list(map(sigmoid, X@theta))\n",
    "k = k - y\n",
    "k = k @ X[:,0]\n",
    "k[:5]"
   ]
  },
  {
   "cell_type": "code",
   "execution_count": 0,
   "metadata": {
    "colab": {},
    "colab_type": "code",
    "id": "wdct-pzzFYlB"
   },
   "outputs": [],
   "source": [
    "#np.dot(X,theta)\n",
    "#X@theta\n",
    "theta = np.ones((len(X[0]),1) )\n",
    "k = sigmoid(X @ theta)\n",
    "k = k - y\n",
    "#deriv[j] = k @ X[:,j]\n",
    "#print(k.shape)\n",
    "print(y.shape)\n",
    "#print(k[:5])\n",
    "k[0] = 1\n",
    "#print(k[:5])\n",
    "print(X.shape,'\\n')\n",
    "(k.T @ X[:,0]).shape\n"
   ]
  },
  {
   "cell_type": "code",
   "execution_count": 0,
   "metadata": {
    "colab": {},
    "colab_type": "code",
    "id": "aXHSd29k6nfj"
   },
   "outputs": [],
   "source": [
    "def cost_func_derivative(X, theta, y):\n",
    "    ''' Returns the derivative of the cost '''\n",
    "    deriv = [0]*len(X[0])\n",
    "    for j in range(len(X[0])):\n",
    "        k = sigmoid(X@theta)\n",
    "        k = k - y\n",
    "        deriv[j] = k.T @ X[:,j]\n",
    "    return deriv"
   ]
  },
  {
   "cell_type": "code",
   "execution_count": 0,
   "metadata": {
    "colab": {},
    "colab_type": "code",
    "id": "5U9ClL55-rWP"
   },
   "outputs": [],
   "source": [
    "## This is not being used\n",
    "train_X, test_X, train_y, test_y = train_test_split(X, y_orig, test_size=0.2, shuffle=True, random_state=42)\n",
    "train_y = np.reshape(train_y,(len(train_y),1))\n",
    "test_y = np.reshape(test_y,(len(test_y),1))\n",
    "train_X[:10], train_y[:10]"
   ]
  },
  {
   "cell_type": "code",
   "execution_count": 0,
   "metadata": {
    "colab": {},
    "colab_type": "code",
    "id": "oYFqIcwC9NLi"
   },
   "outputs": [],
   "source": [
    "num_iter = 3e5\n",
    "i = 1\n",
    "alpha = 0.1\n",
    "theta = np.ones((len(X[0]), 1) )\n",
    "\n",
    "while i <= num_iter:\n",
    "    deriv = cost_func_derivative(X, theta, y)\n",
    "    new_theta = theta.copy()\n",
    "    for j in range(len(deriv)):\n",
    "        new_theta[j] -= deriv[j]*alpha  #/ len(X)\n",
    "    theta = new_theta.copy()\n",
    "    i += 1\n",
    "theta"
   ]
  },
  {
   "cell_type": "code",
   "execution_count": 0,
   "metadata": {
    "colab": {},
    "colab_type": "code",
    "id": "ikG8Gngyai4B"
   },
   "outputs": [],
   "source": [
    "print('Min x_1:', np.min(X[:,0]), 'Max x_1:', np.max(X[:,0]))\n",
    "print('Min x_2:', np.min(X[:,1]), 'Max x_2:', np.max(X[:,1]))"
   ]
  },
  {
   "cell_type": "code",
   "execution_count": 0,
   "metadata": {
    "colab": {},
    "colab_type": "code",
    "id": "JdX6P5jyJFOi"
   },
   "outputs": [],
   "source": [
    "## Decision boundary: theta_0 + theta_1 * x_1 + theta_2 * x_2 = 0\n",
    "## x_2 = - ( theta_0 + theta_1 * x_1 ) / theta_2\n",
    "a_1 = np.arange(3.5,8.55,0.05)\n",
    "a_2 =  - ( theta[0] + theta[1] * a_1 ) / theta[2]\n",
    "\n",
    "setosa = X_orig[y_orig==0]\n",
    "not_setosa = X_orig[y_orig==1]\n",
    "plt.scatter(setosa[:,0],setosa[:,1],c='b')\n",
    "plt.scatter(not_setosa[:,0],not_setosa[:,1],c='g')\n",
    "\n",
    "plt.plot(a_1, a_2)\n",
    "\n",
    "plt.xlabel('sepal length (cm)')\n",
    "plt.ylabel('petal width (cm)')\n",
    "\n",
    "plt.show()"
   ]
  },
  {
   "cell_type": "code",
   "execution_count": 0,
   "metadata": {
    "colab": {},
    "colab_type": "code",
    "id": "sW_7u0AeXOsY"
   },
   "outputs": [],
   "source": [
    "a = np.array([[1,2,3] for i in range(3)])\n",
    "b = np.ones((3,1))\n",
    "b[1] = 2\n",
    "b[2] = 3\n",
    "\n",
    "print(a)\n",
    "print()\n",
    "print(np.min(a,axis=0))\n",
    "print(np.min(a,axis=1))\n",
    "(a == b).astype('int8')"
   ]
  },
  {
   "cell_type": "code",
   "execution_count": 0,
   "metadata": {
    "colab": {},
    "colab_type": "code",
    "id": "jX4A6TGJcq0m"
   },
   "outputs": [],
   "source": [
    "from sklearn.linear_model import LogisticRegression"
   ]
  },
  {
   "cell_type": "code",
   "execution_count": 0,
   "metadata": {
    "colab": {},
    "colab_type": "code",
    "id": "HXmiRJadc6Vp"
   },
   "outputs": [],
   "source": [
    "# sklearn Logistic Regression model\n",
    "\n",
    "clf = LogisticRegression(random_state=0).fit(X, y_orig)\n",
    "print()\n",
    "print('Intercept:', clf.intercept_)\n",
    "print('Coefficients:', clf.coef_)\n",
    "print()"
   ]
  },
  {
   "cell_type": "code",
   "execution_count": 0,
   "metadata": {
    "colab": {},
    "colab_type": "code",
    "id": "VKd911NhdxUO"
   },
   "outputs": [],
   "source": [
    "coef = clf.coef_\n",
    "#theta_0 = clf.intercept_\n",
    "theta_0, theta_1, theta_2 = coef[0,0], coef[0,1], coef[0,2]\n",
    "#theta_1, theta_2 = coef[0,0], coef[0,1]\n",
    "\n",
    "a_1 = np.arange(3.5,8.55,0.05)\n",
    "a_2 =  - ( theta_0 + theta_1 * a_1 ) / theta_2\n",
    "\n",
    "setosa = X_orig[y_orig==0]\n",
    "not_setosa = X_orig[y_orig==1]\n",
    "plt.scatter(setosa[:,0],setosa[:,1],c='b')\n",
    "plt.scatter(not_setosa[:,0],not_setosa[:,1],c='g')\n",
    "\n",
    "plt.plot(a_1, a_2)\n",
    "\n",
    "plt.xlabel('sepal length (cm)')\n",
    "plt.ylabel('petal width (cm)')\n",
    "\n",
    "plt.show()\n"
   ]
  },
  {
   "cell_type": "markdown",
   "metadata": {
    "colab_type": "text",
    "id": "z0oObpJKZuzK"
   },
   "source": [
    "# Neural Networks"
   ]
  },
  {
   "cell_type": "code",
   "execution_count": 0,
   "metadata": {
    "colab": {},
    "colab_type": "code",
    "id": "4iAEmwi1oMF9"
   },
   "outputs": [],
   "source": [
    "def sigmoid_derivative(z):\n",
    "    ''' Returns the derivate of the sigmoid function at z '''\n",
    "    return z * (1 - z)"
   ]
  },
  {
   "cell_type": "code",
   "execution_count": 0,
   "metadata": {
    "colab": {},
    "colab_type": "code",
    "id": "Ou_PDdCreXur"
   },
   "outputs": [],
   "source": [
    "class NeuralNetwork:\n",
    "    ''' Neural Network class - Two fully connected layers '''\n",
    "    def __init__(self, X, y):\n",
    "        self.X = X\n",
    "        self.y = y\n",
    "        self.weights_layer1 = np.random.rand(self.X.shape[1], 100)\n",
    "        self.weights_layer2 = np.random.rand(100, y.shape[1])\n",
    "        self.alpha = 0.05 # Learning Rate\n",
    "    \n",
    "    def forwardprop(self):\n",
    "        ''' Performs forward propagation for the entire neural network for one epoch '''\n",
    "        self.a_layer1 = sigmoid(np.dot(self.X, self.weights_layer1))\n",
    "        self.a_layer2 = np.dot(self.a_layer1, self.weights_layer2)\n",
    "        self.out = self.a_layer2\n",
    "    \n",
    "    def backprop(self):\n",
    "        ''' Performs backward propagation for the entire neural network for one epoch '''\n",
    "        err2 = 2*(self.y - self.out) * sigmoid_derivative(self.out)\n",
    "        diff_weights_layer2 = np.dot(self.a_layer1.T, err2)\n",
    "        \n",
    "        err1 = np.dot(err2, self.weights_layer2.T) * sigmoid_derivative(self.weights_layer1)\n",
    "        diff_weights_layer1 = np.dot(self.input.T, err1)\n",
    "        \n",
    "        \n",
    "        self.weights_layer1 -= self.alpha * diff_weights_layer1\n",
    "        self.weights_layer2 -= self.alpha * diff_weights_layer2\n",
    "    \n",
    "    def train(self, epochs = 100):\n",
    "        ''' Trains the model for a given numbe of epochs '''\n",
    "        self.epochs = 100\n",
    "        for i in range(epochs):\n",
    "            self.forwardprop()\n",
    "            self.backprop()\n",
    "    \n",
    "    def predict(self, X_test):\n",
    "        ''' Predicts the classes of the given input samples '''\n",
    "        a1 = sigmoid(np.dot(self.X, self.weights_layer1))\n",
    "        a2 = np.dot(a1, self.weights_layer2)\n",
    "        max_val = np.max(a2, axis=1)\n",
    "        max_val2 = np.reshape(max_val, (len(max_val), 1))\n",
    "        pred = (a2 == max_val2).astype('int8')\n",
    "        pred_single = [list(a2[i]).index(max_val[i]) for i in range(len(max_val))]\n",
    "        return pred, pred_single\n",
    "        \n",
    "        \n"
   ]
  },
  {
   "cell_type": "code",
   "execution_count": 0,
   "metadata": {
    "colab": {},
    "colab_type": "code",
    "id": "tOQTQzGNznIN"
   },
   "outputs": [],
   "source": [
    "X = np.array([[1,1,1],[2,2,2],[3,3,3],[4,4,4]])\n",
    "y = np.array([[1,0,0,0],[0,1,0,0],[0,0,1,0],[0,0,0,1]])\n",
    "nn = NeuralNetwork(X,y)"
   ]
  },
  {
   "cell_type": "code",
   "execution_count": 0,
   "metadata": {
    "colab": {},
    "colab_type": "code",
    "id": "Edd_PY3p0mF2"
   },
   "outputs": [],
   "source": [
    "nn.train()\n",
    "nn.predict(np.array([1,1,1]))"
   ]
  },
  {
   "cell_type": "code",
   "execution_count": 0,
   "metadata": {
    "colab": {},
    "colab_type": "code",
    "id": "BIfwmUss1LqE"
   },
   "outputs": [],
   "source": [
    "df = pd.read_csv('mnist_digits.csv')\n",
    "X = df.copy()\n",
    "y = X['digit']\n",
    "del X['digit']"
   ]
  }
 ],
 "metadata": {
  "colab": {
   "name": "Assignment8.ipynb",
   "provenance": [],
   "version": "0.3.2"
  },
  "kernelspec": {
   "display_name": "Python 3",
   "language": "python",
   "name": "python3"
  },
  "language_info": {
   "codemirror_mode": {
    "name": "ipython",
    "version": 3
   },
   "file_extension": ".py",
   "mimetype": "text/x-python",
   "name": "python",
   "nbconvert_exporter": "python",
   "pygments_lexer": "ipython3",
   "version": "3.6.8"
  }
 },
 "nbformat": 4,
 "nbformat_minor": 1
}
